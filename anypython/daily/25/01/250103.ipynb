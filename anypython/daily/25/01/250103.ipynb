{
 "cells": [
  {
   "cell_type": "code",
   "execution_count": 6,
   "metadata": {},
   "outputs": [],
   "source": [
    "import requests\n",
    "import pprint\n",
    "import json"
   ]
  },
  {
   "cell_type": "code",
   "execution_count": 3,
   "metadata": {},
   "outputs": [],
   "source": [
    "url = \"http://api.data.go.kr/openapi/tn_pubr_public_ovrspd_prvn_manage_api?serviceKey=7EinowTIkEm3%2FDZaOqNJzsXT%2FkSpnrgeS%2F%2BZvubKAoTo0C2p54sohXEleJVpze9E79nsJZ8FaA9dC2St%2Fn4Ofg%3D%3D&pageNo=1&numOfRows=100&type=json\""
   ]
  },
  {
   "cell_type": "code",
   "execution_count": 4,
   "metadata": {},
   "outputs": [],
   "source": [
    "response = requests.get(url)\n",
    "contents = response.text"
   ]
  },
  {
   "cell_type": "code",
   "execution_count": 60,
   "metadata": {},
   "outputs": [
    {
     "name": "stdout",
     "output_type": "stream",
     "text": [
      "('{\"response\":{\"header\":{\"resultCode\": \"30\",\"resultMsg\":\"SERVICE KEY IS NOT '\n",
      " 'REGISTERED ERROR.\"}}}')\n",
      "None\n"
     ]
    }
   ],
   "source": [
    "pp = pprint.PrettyPrinter(indent=4)\n",
    "print(pp.pprint(contents))"
   ]
  },
  {
   "cell_type": "code",
   "execution_count": 63,
   "metadata": {},
   "outputs": [
    {
     "name": "stdout",
     "output_type": "stream",
     "text": [
      "{'currentCount': 0, 'data': [], 'matchCount': 0, 'page': 1, 'perPage': 10, 'totalCount': 364778}\n"
     ]
    }
   ],
   "source": [
    "import requests\n",
    "\n",
    "Servicekey = \"AE%2BAYfujB7mhHocWHzLgLXR0mP2f0xcsKcEPgjNKAJUn9C%2Fvv%2BzryEGqyZ07038iZvkJaHWSPxIgvNitxFdj2g%3D%3D\"\n",
    "base_url = \"https://apis.data.go.kr/B553912/tk_sales/v1/channel_sales?serviceKey=\"+Servicekey\n",
    "#base_url = \"https://apis.data.go.kr/B553912/tk_sales/v1/channel_sales\"\n",
    "params = { \n",
    "          \"page\":1,\n",
    "          \"perPage\":10,\n",
    "          \"returnType\" : \"JSON\",\n",
    "          \"cond[RUN_YMD::LT]\" : 20241231,\n",
    "          \"cond[RUN_YMD::LTE]\" : 20241231,\n",
    "          \"cond[RUN_YMD::GT]\" : 20250101,\n",
    "          \"cond[RUN_YMD::GTE]\" : 20250101\n",
    "         }\n",
    "response = requests.get(base_url, params=params)\n",
    "\n",
    "print(response.json())"
   ]
  },
  {
   "cell_type": "code",
   "execution_count": 21,
   "metadata": {},
   "outputs": [
    {
     "name": "stdout",
     "output_type": "stream",
     "text": [
      "{'resultCode': '00', 'resultMsg': 'NORMAL_CODE', 'items': {'item': [{'std_year': '2019', 'sido_sgg_nm': '서울특별시 강남구', 'acc_cl_nm': '전체사고', 'acc_cnt': '3722', 'acc_cnt_cmrt': '1.62', 'dth_dnv_cnt': '14', 'dth_dnv_cnt_cmrt': '0.42', 'ftlt_rate': '0.38', 'injpsn_cnt': '5182', 'injpsn_cnt_cmrt': '1.52', 'tot_acc_cnt': '229600', 'tot_dth_dnv_cnt': '3349', 'tot_injpsn_cnt': '341712', 'pop_100k': '675.81', 'car_10k': '147.41', 'cnt_027_01': '13', 'cnt_027_02': '76', 'cnt_027_03': '330', 'cnt_027_04': '515', 'cnt_027_05': '2150', 'cnt_027_06': '154', 'cnt_027_07': '125', 'cnt_027_99': '359', 'cnt_014_01': '825', 'cnt_014_02': '2832', 'cnt_014_03': '65', 'cnt_014_04': '0'}, {'std_year': '2019', 'sido_sgg_nm': '서울특별시 강남구', 'acc_cl_nm': '어린이사고', 'acc_cnt': '107', 'acc_cnt_cmrt': '0.97', 'dth_dnv_cnt': '0', 'dth_dnv_cnt_cmrt': '0.00', 'ftlt_rate': '0.00', 'injpsn_cnt': '126', 'injpsn_cnt_cmrt': '0.89', 'tot_acc_cnt': '11054', 'tot_dth_dnv_cnt': '28', 'tot_injpsn_cnt': '14115'}, {'std_year': '2019', 'sido_sgg_nm': '서울특별시 강남구', 'acc_cl_nm': '고령자사고', 'acc_cnt': '352', 'acc_cnt_cmrt': '0.87', 'dth_dnv_cnt': '6', 'dth_dnv_cnt_cmrt': '0.39', 'ftlt_rate': '1.70', 'injpsn_cnt': '366', 'injpsn_cnt_cmrt': '0.82', 'tot_acc_cnt': '40645', 'tot_dth_dnv_cnt': '1523', 'tot_injpsn_cnt': '44390'}, {'std_year': '2019', 'sido_sgg_nm': '서울특별시 강남구', 'acc_cl_nm': '보행자사고', 'acc_cnt': '839', 'acc_cnt_cmrt': '1.80', 'dth_dnv_cnt': '8', 'dth_dnv_cnt_cmrt': '0.61', 'ftlt_rate': '0.95', 'injpsn_cnt': '863', 'injpsn_cnt_cmrt': '1.83', 'tot_acc_cnt': '46682', 'tot_dth_dnv_cnt': '1302', 'tot_injpsn_cnt': '47200'}, {'std_year': '2019', 'sido_sgg_nm': '서울특별시 강남구', 'acc_cl_nm': '자전거사고', 'acc_cnt': '60', 'acc_cnt_cmrt': '1.07', 'dth_dnv_cnt': '0', 'dth_dnv_cnt_cmrt': '0.00', 'ftlt_rate': '0.00', 'injpsn_cnt': '70', 'injpsn_cnt_cmrt': '1.16', 'tot_acc_cnt': '5633', 'tot_dth_dnv_cnt': '79', 'tot_injpsn_cnt': '6020'}, {'std_year': '2019', 'sido_sgg_nm': '서울특별시 강남구', 'acc_cl_nm': '야간사고', 'acc_cnt': '1688', 'acc_cnt_cmrt': '1.85', 'dth_dnv_cnt': '10', 'dth_dnv_cnt_cmrt': '0.63', 'ftlt_rate': '0.59', 'injpsn_cnt': '2421', 'injpsn_cnt_cmrt': '1.80', 'tot_acc_cnt': '91067', 'tot_dth_dnv_cnt': '1599', 'tot_injpsn_cnt': '134686'}, {'std_year': '2019', 'sido_sgg_nm': '서울특별시 강남구', 'acc_cl_nm': '어린이보행사고', 'acc_cnt': '44', 'acc_cnt_cmrt': '1.14', 'dth_dnv_cnt': '0', 'dth_dnv_cnt_cmrt': '0.00', 'ftlt_rate': '0.00', 'injpsn_cnt': '44', 'injpsn_cnt_cmrt': '1.12', 'tot_acc_cnt': '3856', 'tot_dth_dnv_cnt': '20', 'tot_injpsn_cnt': '3942'}, {'std_year': '2019', 'sido_sgg_nm': '서울특별시 강남구', 'acc_cl_nm': '스쿨존내어린이사고', 'acc_cnt': '6', 'acc_cnt_cmrt': '1.06', 'dth_dnv_cnt': '0', 'dth_dnv_cnt_cmrt': '0.00', 'ftlt_rate': '0.00', 'injpsn_cnt': '6', 'injpsn_cnt_cmrt': '1.02', 'tot_acc_cnt': '567', 'tot_dth_dnv_cnt': '6', 'tot_injpsn_cnt': '589'}, {'std_year': '2019', 'sido_sgg_nm': '서울특별시 강남구', 'acc_cl_nm': '고령운전자사고', 'acc_cnt': '457', 'acc_cnt_cmrt': '1.37', 'dth_dnv_cnt': '2', 'dth_dnv_cnt_cmrt': '0.26', 'ftlt_rate': '0.44', 'injpsn_cnt': '613', 'injpsn_cnt_cmrt': '1.27', 'tot_acc_cnt': '33239', 'tot_dth_dnv_cnt': '769', 'tot_injpsn_cnt': '48223'}, {'std_year': '2019', 'sido_sgg_nm': '서울특별시 강남구', 'acc_cl_nm': '고령보행자사고', 'acc_cnt': '91', 'acc_cnt_cmrt': '0.74', 'dth_dnv_cnt': '5', 'dth_dnv_cnt_cmrt': '0.67', 'ftlt_rate': '5.49', 'injpsn_cnt': '87', 'injpsn_cnt_cmrt': '0.75', 'tot_acc_cnt': '12249', 'tot_dth_dnv_cnt': '743', 'tot_injpsn_cnt': '11653'}, {'std_year': '2019', 'sido_sgg_nm': '서울특별시 강남구', 'acc_cl_nm': '개인형이동수단(PM)사고', 'acc_cnt': '36', 'acc_cnt_cmrt': '8.05', 'dth_dnv_cnt': '0', 'dth_dnv_cnt_cmrt': '0.00', 'ftlt_rate': '0.00', 'injpsn_cnt': '38', 'injpsn_cnt_cmrt': '8.03', 'tot_acc_cnt': '447', 'tot_dth_dnv_cnt': '8', 'tot_injpsn_cnt': '473'}, {'std_year': '2019', 'sido_sgg_nm': '서울특별시 강남구', 'acc_cl_nm': '뺑소니사고', 'acc_cnt': '65', 'acc_cnt_cmrt': '0.91', 'dth_dnv_cnt': '0', 'dth_dnv_cnt_cmrt': '0.00', 'ftlt_rate': '0.00', 'injpsn_cnt': '107', 'injpsn_cnt_cmrt': '1.04', 'tot_acc_cnt': '7129', 'tot_dth_dnv_cnt': '90', 'tot_injpsn_cnt': '10285'}, {'std_year': '2019', 'sido_sgg_nm': '서울특별시 강남구', 'acc_cl_nm': '무면허사고', 'acc_cnt': '66', 'acc_cnt_cmrt': '1.27', 'dth_dnv_cnt': '0', 'dth_dnv_cnt_cmrt': '0.00', 'ftlt_rate': '0.00', 'injpsn_cnt': '87', 'injpsn_cnt_cmrt': '1.17', 'tot_acc_cnt': '5177', 'tot_dth_dnv_cnt': '163', 'tot_injpsn_cnt': '7445'}]}, 'totalCount': 13, 'numOfRows': 13, 'pageNo': 1}\n"
     ]
    }
   ],
   "source": [
    "import requests\n",
    "\n",
    "Servicekey = \"AE%2BAYfujB7mhHocWHzLgLXR0mP2f0xcsKcEPgjNKAJUn9C%2Fvv%2BzryEGqyZ07038iZvkJaHWSPxIgvNitxFdj2g%3D%3D\"\n",
    "Servicekey1 = \"AE%2BAYfujB7mhHocWHzLgLXR0mP2f0xcsKcEPgjNKAJUn9C%2Fvv%2BzryEGqyZ07038iZvkJaHWSPxIgvNitxFdj2g%3D%3D\"\n",
    "base_url = \"http://apis.data.go.kr/B552061/lgStat\"\n",
    "add = \"/getRestLgStat\"\n",
    "url = base_url+add+\"?serviceKey=\"+Servicekey\n",
    "#base_url = \"https://apis.data.go.kr/B553912/tk_sales/v1/channel_sales\"\n",
    "params = { \n",
    "          \"pageNo\":1,\n",
    "          \"searchYearCd\" : 2019,\n",
    "          \"siDo\" : 1100,\n",
    "          \"guGun\" : 1116,\n",
    "          \"numOfRows\" : 500,\n",
    "          \"Type\" : \"json\" \n",
    "         }\n",
    "response = requests.get(url, params=params)\n",
    "\n",
    "print(response.json())\n"
   ]
  },
  {
   "cell_type": "code",
   "execution_count": 54,
   "metadata": {},
   "outputs": [
    {
     "ename": "SyntaxError",
     "evalue": "invalid syntax (4079809046.py, line 1)",
     "output_type": "error",
     "traceback": [
      "\u001b[1;36m  Cell \u001b[1;32mIn[54], line 1\u001b[1;36m\u001b[0m\n\u001b[1;33m    https://apis.data.go.kr/B553912/tk_sales/v1/channel_sales?serviceKey=AE%252BAYfujB7mhHocWHzLgLXR0mP2f0xcsKcEPgjNKAJUn9C%252Fvv%252BzryEGqyZ07038iZvkJaHWSPxIgvNitxFdj2g%253D%253D&page=1&perPage=100&returnType=JSON\u001b[0m\n\u001b[1;37m          ^\u001b[0m\n\u001b[1;31mSyntaxError\u001b[0m\u001b[1;31m:\u001b[0m invalid syntax\n"
     ]
    }
   ],
   "source": [
    "\"https://apis.data.go.kr/B553912/tk_sales/v1/channel_sales?serviceKey=AE%252BAYfujB7mhHocWHzLgLXR0mP2f0xcsKcEPgjNKAJUn9C%252Fvv%252BzryEGqyZ07038iZvkJaHWSPxIgvNitxFdj2g%253D%253D&page=1&perPage=100&returnType=JSON\"\n",
    "\"https://apis.data.go.kr/B553912/tk_sales/v1/channel_sales?serviceKey=AE%2BAYfujB7mhHocWHzLgLXR0mP2f0xcsKcEPgjNKAJUn9C%2Fvv%2BzryEGqyZ07038iZvkJaHWSPxIgvNitxFdj2g%3D%3D&page=1&perPage=100&returnType=JSON\"\n",
    "\"http://apis.data.go.kr/B553912/tk_sales/v1/channel_sales?serviceKey=AE+AYfujB7mhHocWHzLgLXR0mP2f0xcsKcEPgjNKAJUn9C/vv+zryEGqyZ07038iZvkJaHWSPxIgvNitxFdj2g==&page=1&perPage=100&returnType=JSON\""
   ]
  },
  {
   "cell_type": "code",
   "execution_count": 42,
   "metadata": {},
   "outputs": [
    {
     "name": "stdout",
     "output_type": "stream",
     "text": [
      "<OpenAPI_ServiceResponse>\n",
      "\t<cmmMsgHeader>\n",
      "\t\t<errMsg>SERVICE ERROR</errMsg>\n",
      "\t\t<returnAuthMsg>SERVICE_KEY_IS_NOT_REGISTERED_ERROR</returnAuthMsg>\n",
      "\t\t<returnReasonCode>30</returnReasonCode>\n",
      "\t</cmmMsgHeader>\n",
      "</OpenAPI_ServiceResponse>\n"
     ]
    }
   ],
   "source": [
    "import requests\n",
    "Key = \"AE%2BAYfujB7mhHocWHzLgLXR0mP2f0xcsKcEPgjNKAJUn9C%2Fvv%2BzryEGqyZ07038iZvkJaHWSPxIgvNitxFdj2g%3D%3D\"\n",
    "url = 'http://apis.data.go.kr/B552061/lgStat/getRestLgStat'\n",
    "params ={\n",
    "         \"serviceKey\": \"\\\"\"+Key\",\n",
    "         'searchYearCd' : '2019',\n",
    "         'siDo' : '1100',\n",
    "         'guGun' : '1116',\n",
    "         'type' : 'json',\n",
    "         'numOfRows' : '10',\n",
    "         'pageNo' : '1'\n",
    "        }\n",
    "\n",
    "response = requests.get(url, params=params)\n",
    "print(response.text)"
   ]
  },
  {
   "cell_type": "code",
   "execution_count": 43,
   "metadata": {},
   "outputs": [
    {
     "name": "stdout",
     "output_type": "stream",
     "text": [
      "b'<OpenAPI_ServiceResponse>\\n\\t<cmmMsgHeader>\\n\\t\\t<errMsg>SERVICE ERROR</errMsg>\\n\\t\\t<returnAuthMsg>SERVICE_KEY_IS_NOT_REGISTERED_ERROR</returnAuthMsg>\\n\\t\\t<returnReasonCode>30</returnReasonCode>\\n\\t</cmmMsgHeader>\\n</OpenAPI_ServiceResponse>'\n"
     ]
    }
   ],
   "source": [
    "import requests\n",
    "\n",
    "url = 'http://apis.data.go.kr/B552061/lgStat/getRestLgStat'\n",
    "params ={'serviceKey' : 'AE%2BAYfujB7mhHocWHzLgLXR0mP2f0xcsKcEPgjNKAJUn9C%2Fvv%2BzryEGqyZ07038iZvkJaHWSPxIgvNitxFdj2g%3D%3D', 'searchYearCd' : '2019', 'siDo' : '1100', 'guGun' : '1116', 'type' : 'xml', 'numOfRows' : '10', 'pageNo' : '1' }\n",
    "\n",
    "response = requests.get(url, params=params)\n",
    "print(response.content)"
   ]
  },
  {
   "cell_type": "code",
   "execution_count": 4,
   "metadata": {},
   "outputs": [
    {
     "ename": "OpenAIError",
     "evalue": "The api_key client option must be set either by passing api_key to the client or by setting the OPENAI_API_KEY environment variable",
     "output_type": "error",
     "traceback": [
      "\u001b[1;31m---------------------------------------------------------------------------\u001b[0m",
      "\u001b[1;31mOpenAIError\u001b[0m                               Traceback (most recent call last)",
      "Cell \u001b[1;32mIn[4], line 1\u001b[0m\n\u001b[1;32m----> 1\u001b[0m client \u001b[38;5;241m=\u001b[39m \u001b[43mOpenAI\u001b[49m\u001b[43m(\u001b[49m\u001b[43m)\u001b[49m\n\u001b[0;32m      3\u001b[0m completion \u001b[38;5;241m=\u001b[39m client\u001b[38;5;241m.\u001b[39mchat\u001b[38;5;241m.\u001b[39mcompletions\u001b[38;5;241m.\u001b[39mcreate(\n\u001b[0;32m      4\u001b[0m     medel\u001b[38;5;241m=\u001b[39m\u001b[38;5;124m\"\u001b[39m\u001b[38;5;124mgpt-4o-mini\u001b[39m\u001b[38;5;124m\"\u001b[39m,\n\u001b[0;32m      5\u001b[0m     messages\u001b[38;5;241m=\u001b[39m[\n\u001b[1;32m   (...)\u001b[0m\n\u001b[0;32m     11\u001b[0m     ]\n\u001b[0;32m     12\u001b[0m )\n\u001b[0;32m     14\u001b[0m \u001b[38;5;28mprint\u001b[39m(completion\u001b[38;5;241m.\u001b[39mchoices[\u001b[38;5;241m0\u001b[39m]\u001b[38;5;241m.\u001b[39mmessage)\n",
      "File \u001b[1;32mc:\\Python38\\lib\\site-packages\\openai\\_client.py:110\u001b[0m, in \u001b[0;36mOpenAI.__init__\u001b[1;34m(self, api_key, organization, project, base_url, websocket_base_url, timeout, max_retries, default_headers, default_query, http_client, _strict_response_validation)\u001b[0m\n\u001b[0;32m    108\u001b[0m     api_key \u001b[38;5;241m=\u001b[39m os\u001b[38;5;241m.\u001b[39menviron\u001b[38;5;241m.\u001b[39mget(\u001b[38;5;124m\"\u001b[39m\u001b[38;5;124mOPENAI_API_KEY\u001b[39m\u001b[38;5;124m\"\u001b[39m)\n\u001b[0;32m    109\u001b[0m \u001b[38;5;28;01mif\u001b[39;00m api_key \u001b[38;5;129;01mis\u001b[39;00m \u001b[38;5;28;01mNone\u001b[39;00m:\n\u001b[1;32m--> 110\u001b[0m     \u001b[38;5;28;01mraise\u001b[39;00m OpenAIError(\n\u001b[0;32m    111\u001b[0m         \u001b[38;5;124m\"\u001b[39m\u001b[38;5;124mThe api_key client option must be set either by passing api_key to the client or by setting the OPENAI_API_KEY environment variable\u001b[39m\u001b[38;5;124m\"\u001b[39m\n\u001b[0;32m    112\u001b[0m     )\n\u001b[0;32m    113\u001b[0m \u001b[38;5;28mself\u001b[39m\u001b[38;5;241m.\u001b[39mapi_key \u001b[38;5;241m=\u001b[39m api_key\n\u001b[0;32m    115\u001b[0m \u001b[38;5;28;01mif\u001b[39;00m organization \u001b[38;5;129;01mis\u001b[39;00m \u001b[38;5;28;01mNone\u001b[39;00m:\n",
      "\u001b[1;31mOpenAIError\u001b[0m: The api_key client option must be set either by passing api_key to the client or by setting the OPENAI_API_KEY environment variable"
     ]
    }
   ],
   "source": []
  }
 ],
 "metadata": {
  "kernelspec": {
   "display_name": "Python 3",
   "language": "python",
   "name": "python3"
  },
  "language_info": {
   "codemirror_mode": {
    "name": "ipython",
    "version": 3
   },
   "file_extension": ".py",
   "mimetype": "text/x-python",
   "name": "python",
   "nbconvert_exporter": "python",
   "pygments_lexer": "ipython3",
   "version": "3.8.10"
  }
 },
 "nbformat": 4,
 "nbformat_minor": 2
}

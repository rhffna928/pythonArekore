{
 "cells": [
  {
   "cell_type": "code",
   "execution_count": 7,
   "id": "f59f5609",
   "metadata": {},
   "outputs": [
    {
     "name": "stdout",
     "output_type": "stream",
     "text": [
      "edgeplatform/hub/STSW000001\n",
      "edgeplatform/hub/STSW000002\n",
      "edgeplatform/hub/STSW000003\n",
      "edgeplatform/hub/STSW000004\n",
      "edgeplatform/hub/STSW000005\n"
     ]
    }
   ],
   "source": [
    "RES_TOPIC = \"edgeplatform/hub/['STSW000001', 'STSW000002', 'STSW000003', 'STSW000004', 'STSW000005']\"\n",
    "base = \"edgeplatform/hub\"\n",
    "edge = ['STSW000001', 'STSW000002', 'STSW000003', 'STSW000004', 'STSW000005'] \n",
    "edgeIds = (edge)\n",
    "# for i in range(len(edgeId)):\n",
    "#     print(edgeId[i])\n",
    "    \n",
    "for edgeId in edgeIds:\n",
    "    topic = f\"{base}/{edgeId}\"\n",
    "    print(topic)"
   ]
  }
 ],
 "metadata": {
  "kernelspec": {
   "display_name": "Python 3",
   "language": "python",
   "name": "python3"
  },
  "language_info": {
   "codemirror_mode": {
    "name": "ipython",
    "version": 3
   },
   "file_extension": ".py",
   "mimetype": "text/x-python",
   "name": "python",
   "nbconvert_exporter": "python",
   "pygments_lexer": "ipython3",
   "version": "3.8.10"
  }
 },
 "nbformat": 4,
 "nbformat_minor": 5
}

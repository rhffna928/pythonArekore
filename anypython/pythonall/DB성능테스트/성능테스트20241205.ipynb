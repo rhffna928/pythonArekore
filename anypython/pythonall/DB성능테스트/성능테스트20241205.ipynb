{
 "cells": [
  {
   "cell_type": "code",
   "execution_count": 1,
   "metadata": {},
   "outputs": [],
   "source": [
    "import matplotlib.pyplot as plt\n",
    "import matplotlib\n",
    "import pandas as pd"
   ]
  },
  {
   "cell_type": "code",
   "execution_count": 3,
   "metadata": {},
   "outputs": [],
   "source": [
    "post = pd.read_csv(\"./postgres_result.log\")\n",
    "sql = pd.read_csv(\"./sqlite_result.log\")"
   ]
  },
  {
   "cell_type": "code",
   "execution_count": null,
   "metadata": {},
   "outputs": [
    {
     "data": {
      "text/plain": [
       "-0.42853538990020756"
      ]
     },
     "execution_count": 13,
     "metadata": {},
     "output_type": "execute_result"
    }
   ],
   "source": [
    "sql['insert'].mean() - post['insert'].mean()"
   ]
  },
  {
   "cell_type": "code",
   "execution_count": 14,
   "metadata": {},
   "outputs": [
    {
     "data": {
      "text/plain": [
       "42.752089132514975"
      ]
     },
     "execution_count": 14,
     "metadata": {},
     "output_type": "execute_result"
    }
   ],
   "source": [
    "data2 = post['insert'].mean() \n",
    "data1 = sql['insert'].mean()\n",
    "fast = ((data2 - data1) / data2) * 100\n",
    "fast"
   ]
  },
  {
   "cell_type": "code",
   "execution_count": 15,
   "metadata": {},
   "outputs": [
    {
     "data": {
      "text/plain": [
       "11.923180829340158"
      ]
     },
     "execution_count": 15,
     "metadata": {},
     "output_type": "execute_result"
    }
   ],
   "source": [
    "data2 = post['read'].mean() \n",
    "data1 = sql['read'].mean()\n",
    "fast = ((data2 - data1) / data2) * 100\n",
    "fast"
   ]
  },
  {
   "cell_type": "code",
   "execution_count": null,
   "metadata": {},
   "outputs": [
    {
     "data": {
      "text/plain": [
       "88.2126306209397"
      ]
     },
     "execution_count": 16,
     "metadata": {},
     "output_type": "execute_result"
    }
   ],
   "source": [
    "data2 = post['update'].mean() \n",
    "data1 = sql['update'].mean()\n",
    "fast = ((data2 - data1) / data2) * 100\n",
    "fast    "
   ]
  },
  {
   "cell_type": "code",
   "execution_count": 19,
   "metadata": {},
   "outputs": [
    {
     "data": {
      "text/plain": [
       "-1.5553939755516448"
      ]
     },
     "execution_count": 19,
     "metadata": {},
     "output_type": "execute_result"
    }
   ],
   "source": [
    "data2 = post['delete'].mean() \n",
    "data1 = sql['delete'].mean()\n",
    "fast = ((data2 - data1) / data2) * 100\n",
    "fast"
   ]
  },
  {
   "cell_type": "code",
   "execution_count": null,
   "metadata": {},
   "outputs": [],
   "source": [
    "fig, axs = plt.subplots(2,2, figsize=(20, 8))\n",
    "\n",
    "axs[0,0].barh(\"postgres\",post['insert'].mean())\n",
    "\n",
    "axs[0,0].barh(\"sqlite\",sql['insert'].mean())\n",
    "axs[0,0].set_title('Insert')\n",
    "axs[0,1].barh(\"postgres\",post['read'].mean())\n",
    "axs[0,1].barh(\"sqlite\",sql['read'].mean())\n",
    "axs[0,1].set_title('Read')\n",
    "axs[1,0].barh(\"postgres\",post['update'].mean())\n",
    "axs[1,0].barh(\"sqlite\",sql['update'].mean())\n",
    "axs[1,0].set_title('Update')\n",
    "axs[1,1].barh(\"postgres\",post['delete'].mean())\n",
    "axs[1,1].barh(\"sqlite\",sql['delete'].mean())\n",
    "axs[1,1].set_title('Delete')\n",
    "\n",
    "\n"
   ]
  },
  {
   "cell_type": "code",
   "execution_count": null,
   "metadata": {},
   "outputs": [],
   "source": [
    "post.mean()"
   ]
  },
  {
   "cell_type": "code",
   "execution_count": null,
   "metadata": {},
   "outputs": [],
   "source": [
    "sql.mean()"
   ]
  }
 ],
 "metadata": {
  "kernelspec": {
   "display_name": ".venv",
   "language": "python",
   "name": "python3"
  },
  "language_info": {
   "codemirror_mode": {
    "name": "ipython",
    "version": 3
   },
   "file_extension": ".py",
   "mimetype": "text/x-python",
   "name": "python",
   "nbconvert_exporter": "python",
   "pygments_lexer": "ipython3",
   "version": "3.8.10"
  }
 },
 "nbformat": 4,
 "nbformat_minor": 2
}

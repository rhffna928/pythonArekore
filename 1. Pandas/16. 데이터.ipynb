{
 "cells": [
  {
   "cell_type": "code",
   "execution_count": null,
   "metadata": {},
   "outputs": [],
   "source": [
    "import pandas as pd\n",
    "\n",
    "data = [~~~]\n",
    "\n",
    "df1 = pd.DataFrame(data)\n",
    "df2 = pd.DataFrame(data)\n",
    "\n",
    "#옵션 concat은 데이터 합치기 axis는 1열로 정리\n",
    "df = pd.concat([df1,df2],axis=1)\n"
   ]
  }
 ],
 "metadata": {
  "language_info": {
   "name": "python"
  }
 },
 "nbformat": 4,
 "nbformat_minor": 2
}

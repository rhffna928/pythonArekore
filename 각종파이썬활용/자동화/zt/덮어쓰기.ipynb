{
 "cells": [
  {
   "cell_type": "code",
   "execution_count": 22,
   "metadata": {},
   "outputs": [],
   "source": [
    "\n",
    "            "
   ]
  },
  {
   "cell_type": "code",
   "execution_count": 24,
   "metadata": {},
   "outputs": [],
   "source": [
    "\n",
    "            "
   ]
  },
  {
   "cell_type": "code",
   "execution_count": 26,
   "metadata": {},
   "outputs": [],
   "source": [
    "import json\n",
    "\n",
    "file_path = \"./SweeperInfoJM.log\"\n",
    "\n",
    "with open(file_path,'r',encoding='utf-8')as f:\n",
    "     \n",
    "    lat = []\n",
    "    lon = []\n",
    "    for line in f:\n",
    "        line = json.loads(line)\n",
    "        if line['type'] == \"VEHICLE_INFO\": \n",
    "            lat.append(line['data']['latitude'])\n",
    "            lon.append(line['data']['longitude'])\n",
    "            \n",
    "new_data = []\n",
    "\n",
    "for i in range(len(lat) -1):\n",
    "   \n",
    "    mid_lat = (float(lat[i]) + float(lat[i+1]))/2\n",
    "    mid_lon = (float(lon[i]) + float(lon[i+1]))/2\n",
    "    \n",
    "    mid_point = {\n",
    "        'latitude': mid_lat,\n",
    "        'longitude': mid_lon\n",
    "    }\n",
    "    \n",
    "    msg = (\n",
    "    '{ \"VID\": \"STSW000001\", \"command\": \"60051\", \"type\": \"VEHICLE_INFO\", \"CRC\": \"\", '\n",
    "    '\"timestamp\": \"2024-09-20 01:29:22\", \"data\": {\"heading\": \"0.000165\",'\n",
    "    f' \"latitude\": \"{mid_lat}\", \"longitude\": \"{mid_lon}\", \"speed\": \"29.999676\"}}}}'\n",
    "    )\n",
    "\n",
    "    new_data.append(msg)\n",
    "    \n",
    "file_name = 'data_sample.log'\n",
    "\n",
    "with open(file_name,'r') as f:\n",
    "    lines = f.readlines()\n",
    "\n",
    "for i in range(2,len(lines),2):\n",
    "    lines[i] = lines[i].strip()+\"\\n\" + msg + \"\\n\"\n",
    "    \n",
    "with open(file_name,'w') as f:\n",
    "    f.writelines(lines)"
   ]
  },
  {
   "cell_type": "code",
   "execution_count": 35,
   "metadata": {},
   "outputs": [],
   "source": [
    "import json\n",
    "\n",
    "file_path = \"./SweeperInfoJM.log\"\n",
    "\n",
    "with open(file_path,'r',encoding='utf-8')as f:\n",
    "     \n",
    "    lat = []\n",
    "    lon = []\n",
    "    for line in f:\n",
    "        line = json.loads(line)\n",
    "        if line['type'] == \"LOCATION\":\n",
    "            lat.append(line['data']['latitude'])\n",
    "            lon.append(line['data']['longitude'])\n",
    "            \n",
    "new_data = []\n",
    "for i in range(len(lat) -1):\n",
    "   \n",
    "    mid_lat = (float(lat[i]) + float(lat[i+1]))/2\n",
    "    mid_lon = (float(lon[i]) + float(lon[i+1]))/2\n",
    "    \n",
    "    mid_point = {\n",
    "        'latitude': mid_lat,\n",
    "        'longitude': mid_lon\n",
    "    }\n",
    "     \n",
    "    msg = (\n",
    "    '{\"VID\": \"STSW000001\", \"command\": \"60053\", \"type\": \"LOCATION\", \"CRC\": \"\",'\n",
    "    '\"timestamp\": \"2024-09-20 01:29:22\", \"data\": {\"accel\": \"100.000000\", \"autoDrivingStatus\": \"0\", \"brake\": \"0.000000\", \"brakeStatus\": \"0\",'\n",
    "    f'\"drivingDistance\": \"23\", \"emergencyLight\": \"0\", \"mdpsAngle\": \"-0.000000\", \"transmission\": \"3\", \"turnSignal\": \"0\", \"wheelSpeed\": \"55.554956\", \"yawRate\": \"0.000000\", \"latitude\": \"{mid_lat}\", \"longitude\": \"{mid_lon}\"}}}}'\n",
    "    )\n",
    "    \n",
    "    new_data.append(msg)\n",
    "file_name = 'data_sample.log'\n",
    "\n",
    "with open(file_name,'r') as f:\n",
    "    lines = f.readlines()\n",
    "\n",
    "for i in range(2,len(lines),3):\n",
    "    lines[i] = lines[i].strip()+\"\\n\" + msg + \"\\n\"\n",
    "    \n",
    "with open(file_name,'w') as f:\n",
    "    f.writelines(lines)"
   ]
  },
  {
   "cell_type": "code",
   "execution_count": null,
   "metadata": {},
   "outputs": [],
   "source": []
  }
 ],
 "metadata": {
  "kernelspec": {
   "display_name": ".venv",
   "language": "python",
   "name": "python3"
  },
  "language_info": {
   "codemirror_mode": {
    "name": "ipython",
    "version": 3
   },
   "file_extension": ".py",
   "mimetype": "text/x-python",
   "name": "python",
   "nbconvert_exporter": "python",
   "pygments_lexer": "ipython3",
   "version": "3.8.10"
  }
 },
 "nbformat": 4,
 "nbformat_minor": 2
}

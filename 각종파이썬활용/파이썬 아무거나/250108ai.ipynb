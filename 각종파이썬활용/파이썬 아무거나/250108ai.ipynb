{
 "cells": [
  {
   "cell_type": "code",
   "execution_count": 5,
   "metadata": {},
   "outputs": [],
   "source": [
    "import torch\n",
    "from diffusers import FluxPipeline\n",
    "import diffusers\n",
    "from PIL import Image\n",
    "import matplotlib.pyplot as plt"
   ]
  },
  {
   "cell_type": "code",
   "execution_count": 9,
   "metadata": {},
   "outputs": [
    {
     "ename": "AttributeError",
     "evalue": "module 'diffusers.models.transformers.transformer_flux' has no attribute 'rope'",
     "output_type": "error",
     "traceback": [
      "\u001b[1;31m---------------------------------------------------------------------------\u001b[0m",
      "\u001b[1;31mAttributeError\u001b[0m                            Traceback (most recent call last)",
      "Cell \u001b[1;32mIn[9], line 1\u001b[0m\n\u001b[1;32m----> 1\u001b[0m _flux_rope \u001b[38;5;241m=\u001b[39m \u001b[43mdiffusers\u001b[49m\u001b[38;5;241;43m.\u001b[39;49m\u001b[43mmodels\u001b[49m\u001b[38;5;241;43m.\u001b[39;49m\u001b[43mtransformers\u001b[49m\u001b[38;5;241;43m.\u001b[39;49m\u001b[43mtransformer_flux\u001b[49m\u001b[38;5;241;43m.\u001b[39;49m\u001b[43mrope\u001b[49m\n\u001b[0;32m      3\u001b[0m \u001b[38;5;28;01mdef\u001b[39;00m \u001b[38;5;21mnew_flux_rope\u001b[39m(pos: torch\u001b[38;5;241m.\u001b[39mTensor, dim: \u001b[38;5;28mint\u001b[39m, theta: \u001b[38;5;28mint\u001b[39m) \u001b[38;5;241m-\u001b[39m\u001b[38;5;241m>\u001b[39m torch\u001b[38;5;241m.\u001b[39mTensor:\n\u001b[0;32m      4\u001b[0m     \u001b[38;5;28;01massert\u001b[39;00m dim \u001b[38;5;241m%\u001b[39m \u001b[38;5;241m2\u001b[39m \u001b[38;5;241m==\u001b[39m \u001b[38;5;241m0\u001b[39m, \u001b[38;5;124m\"\u001b[39m\u001b[38;5;124mThe dimension must be even.\u001b[39m\u001b[38;5;124m\"\u001b[39m\n",
      "\u001b[1;31mAttributeError\u001b[0m: module 'diffusers.models.transformers.transformer_flux' has no attribute 'rope'"
     ]
    }
   ],
   "source": [
    "_flux_rope = diffusers.models.transformers.transformer_flux.rope\n",
    "\n",
    "def new_flux_rope(pos: torch.Tensor, dim: int, theta: int) -> torch.Tensor:\n",
    "    assert dim % 2 == 0, \"The dimension must be even.\"\n",
    "    if pos.device.type == \"cuda\":\n",
    "        return _flux_rope(pos.to(\"cpu\"), dim, theta).to(device=pos.device)\n",
    "    else:\n",
    "        return _flux_rope(pos, dim, theta)\n",
    "    diffusers.models.transformers.transformer_flux.rope = new_flux_rope·"
   ]
  },
  {
   "cell_type": "code",
   "execution_count": 11,
   "metadata": {},
   "outputs": [
    {
     "name": "stdout",
     "output_type": "stream",
     "text": [
      "Epoch 0, Loss: 0.6837332248687744\n",
      "Epoch 10, Loss: 0.6276774406433105\n",
      "Epoch 20, Loss: 0.5794723033905029\n",
      "Epoch 30, Loss: 0.5356159806251526\n",
      "Epoch 40, Loss: 0.48747292160987854\n",
      "Epoch 50, Loss: 0.4391833543777466\n",
      "Epoch 60, Loss: 0.39375951886177063\n",
      "Epoch 70, Loss: 0.35300424695014954\n",
      "Epoch 80, Loss: 0.31652122735977173\n",
      "Epoch 90, Loss: 0.28362613916397095\n",
      "Accuracy: 1.0000\n"
     ]
    }
   ],
   "source": [
    "import torch\n",
    "from torch_geometric.data import Data\n",
    "from torch_geometric.nn import GCNConv\n",
    "import torch.nn.functional as F\n",
    "\n",
    "# 1. 데이터 준비 (간단한 그래프 데이터)\n",
    "# 노드 특징 (4개의 노드, 각 노드는 3차원 특징을 가짐)\n",
    "x = torch.tensor([[1, 0, 1], [0, 1, 1], [1, 1, 0], [0, 0, 1]], dtype=torch.float)\n",
    "\n",
    "# 엣지 리스트 (그래프 연결 관계)\n",
    "edge_index = torch.tensor([\n",
    "    [2, 2, 2, 3, 2, 1],  # From (시작 노드)\n",
    "    [1, 0, 3, 2, 2, 3]   # To (끝 노드)\n",
    "], dtype=torch.long)\n",
    "\n",
    "# 노드 레이블 (0: Class 0, 1: Class 1)\n",
    "y = torch.tensor([0, 1, 0, 1], dtype=torch.long)\n",
    "\n",
    "# 그래프 데이터 생성\n",
    "data = Data(x=x, edge_index=edge_index, y=y)\n",
    "\n",
    "# 2. GCN 모델 정의\n",
    "class GCN(torch.nn.Module):\n",
    "    def __init__(self, input_dim, hidden_dim, output_dim):\n",
    "        super(GCN, self).__init__()\n",
    "        self.conv1 = GCNConv(input_dim, hidden_dim)  # 첫 번째 GCN 레이어\n",
    "        self.conv2 = GCNConv(hidden_dim, output_dim)  # 두 번째 GCN 레이어\n",
    "\n",
    "    def forward(self, data):\n",
    "        x, edge_index = data.x, data.edge_index\n",
    "        x = self.conv1(x, edge_index)  # 첫 번째 레이어 적용\n",
    "        x = F.relu(x)  # 활성화 함수\n",
    "        x = self.conv2(x, edge_index)  # 두 번째 레이어 적용\n",
    "        return F.log_softmax(x, dim=1)  # 클래스 확률 출력\n",
    "\n",
    "# 3. 모델 초기화\n",
    "input_dim = data.x.shape[1]  # 입력 특징 차원 (3)\n",
    "hidden_dim = 4               # 은닉층 차원\n",
    "output_dim = 2               # 출력 클래스 수 (2)\n",
    "model = GCN(input_dim, hidden_dim, output_dim)\n",
    "\n",
    "# 4. 학습 설정\n",
    "optimizer = torch.optim.Adam(model.parameters(), lr=0.01, weight_decay=5e-4)\n",
    "criterion = torch.nn.CrossEntropyLoss()\n",
    "\n",
    "# 5. 모델 학습\n",
    "epochs = 100\n",
    "for epoch in range(epochs):\n",
    "    model.train()\n",
    "    optimizer.zero_grad()\n",
    "    out = model(data)  # 모델 예측\n",
    "    loss = criterion(out, data.y)  # 손실 계산\n",
    "    loss.backward()  # 역전파\n",
    "    optimizer.step()  # 가중치 업데이트\n",
    "\n",
    "    if epoch % 10 == 0:\n",
    "        print(f\"Epoch {epoch}, Loss: {loss.item()}\")\n",
    "\n",
    "# 6. 평가\n",
    "model.eval()\n",
    "_, pred = model(data).max(dim=1)  # 예측 클래스\n",
    "correct = int((pred == data.y).sum())  # 정확히 예측한 노드 수\n",
    "accuracy = correct / data.num_nodes  # 정확도 계산\n",
    "print(f\"Accuracy: {accuracy:.4f}\")\n"
   ]
  }
 ],
 "metadata": {
  "kernelspec": {
   "display_name": "Python 3",
   "language": "python",
   "name": "python3"
  },
  "language_info": {
   "codemirror_mode": {
    "name": "ipython",
    "version": 3
   },
   "file_extension": ".py",
   "mimetype": "text/x-python",
   "name": "python",
   "nbconvert_exporter": "python",
   "pygments_lexer": "ipython3",
   "version": "3.8.10"
  }
 },
 "nbformat": 4,
 "nbformat_minor": 2
}

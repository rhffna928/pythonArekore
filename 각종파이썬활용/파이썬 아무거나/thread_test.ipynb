{
 "cells": [
  {
   "cell_type": "code",
   "execution_count": null,
   "metadata": {},
   "outputs": [],
   "source": [
    "import time\n",
    "#no_thread\n",
    "class MyThread:\n",
    "    \n",
    "    def __init__(self, name):\n",
    "        self.name =name\n",
    "    \n",
    "    def threadRun(self):\n",
    "        for i in range(10):\n",
    "            print(str(i)+\":\"+self.name)\n",
    "            time.sleep(0.5)\n",
    "\n",
    "if __name__ == \"__main__\":\n",
    "    start_ = time.time()\n",
    "    print(\"Main Thread 시작\")\n",
    "    t1 = MyThread(\"t1\")\n",
    "    t2 = MyThread(\"t2\")\n",
    "\n",
    "    t1.threadRun()\n",
    "    t2.threadRun()\n",
    "\n",
    "    print(f\"Main Thread 종료 : {time.time() - start_:.6f}seconds\")"
   ]
  },
  {
   "cell_type": "code",
   "execution_count": null,
   "metadata": {},
   "outputs": [],
   "source": [
    "import time\n",
    "import threading\n",
    "\n",
    "class MyThread:\n",
    "    def __init__(self,name):\n",
    "        self.name = name\n",
    "    def threadRun(self):\n",
    "        for i in range(10):\n",
    "            print(str(i)+\":\"+self.name)\n",
    "            time.sleep(0.1)\n",
    "\n",
    "\n",
    "if __name__ == \"__main__\":\n",
    "    start_ = time.time()\n",
    "    print(\"Main Thread 시작\")\n",
    "    t1 = MyThread(\"t1\")\n",
    "    t2 = MyThread(\"t2\")\n",
    "\n",
    "    MyThread1 = threading.Thread(target=t1.threadRun)\n",
    "    MyThread2 = threading.Thread(target=t2.threadRun)\n",
    "\n",
    "    MyThread1.start()\n",
    "    MyThread2.start()\n",
    "\n",
    "    print(f\"Main Thread 종료 : {time.time() - start_:.6f}seconds\")"
   ]
  },
  {
   "cell_type": "code",
   "execution_count": null,
   "metadata": {},
   "outputs": [],
   "source": [
    "from threading import Thread\n",
    "import requests\n",
    "import time\n",
    "\n",
    "def getHtml(url):\n",
    "    response = requests.get(url)\n",
    "    time.sleep(1)\n",
    "    print(url, len(response.text), response.text)\n",
    "    print(\"test.....\")\n",
    "\n",
    "t1 = Thread(target=getHtml, args=(\"https://www.naver.com\",))\n",
    "t1.start()\n",
    "time.sleep(1.2)\n",
    "\n",
    "\n",
    "print(\"++++++++프로그램 종료++++++++\")"
   ]
  },
  {
   "cell_type": "code",
   "execution_count": null,
   "metadata": {},
   "outputs": [],
   "source": [
    "import time\n",
    "from threading import Thread\n",
    "\n",
    "class AlphaThread:\n",
    "    def __init__(self):\n",
    "        pass\n",
    "    def printAlpha(self):\n",
    "        for i in range(65,91):\n",
    "            print(chr(i))\n",
    "            time.sleep(0.5)\n",
    "\n",
    "class DigitThread:\n",
    "    def __init__(self):\n",
    "        pass\n",
    "    def printDigit(self):\n",
    "        for i in range(1, 31):\n",
    "            print(i)\n",
    "            time.sleep(0.5)\n",
    "\n",
    "if __name__ == \"__main__\":\n",
    "    alpha = AlphaThread()\n",
    "    digit = DigitThread()\n",
    "\n",
    "    t1 = Thread(target=alpha.printAlpha)\n",
    "    t2 = Thread(target=digit.printDigit)\n",
    "\n",
    "    print(\"Main Thread Start\")\n",
    "    t1.start()\n",
    "    t2.start()\n",
    "    \n",
    "    print(\"Main Thread End\")\n"
   ]
  },
  {
   "cell_type": "code",
   "execution_count": null,
   "metadata": {},
   "outputs": [],
   "source": [
    "#상속\n",
    "import time\n",
    "import threading \n",
    "class MyThread(threading.Thread):\n",
    "    def __init__(self,name):\n",
    "        threading.Thread.__init__(self)\n",
    "        self.name = name\n",
    "    \n",
    "    def run(self):\n",
    "        for i in range(10):\n",
    "            print(str(i)+\":\"+ self.name)\n",
    "            time.sleep(0.5)\n",
    "\n",
    "if __name__ == \"__main__\":\n",
    "    print(\"MyThread 시작\")\n",
    "    t1 = MyThread(\"t1\")\n",
    "    t2 = MyThread(\"t2\")\n",
    "\n",
    "    t1.start()\n",
    "    t2.start()\n",
    "\n",
    "    print(\"MyThread 종료\")"
   ]
  },
  {
   "cell_type": "code",
   "execution_count": null,
   "metadata": {},
   "outputs": [],
   "source": [
    "from threading import Thread\n",
    "import time\n",
    "\n",
    "class AlphaThread(Thread):\n",
    "    def __init__(self):\n",
    "        Thread.__init__(self)\n",
    "    \n",
    "    def run(self):\n",
    "        for i in range(65,91):\n",
    "            print(chr(i))\n",
    "            time.sleep(0.5)\n",
    "class DigitThread(Thread):\n",
    "    def __init__(self):\n",
    "        Thread.__init__(self)\n",
    "\n",
    "    def run(self):\n",
    "        for i in range(1,31):\n",
    "            print(chr(i))\n",
    "            time.sleep(0.5)\n",
    "if __name__ == \"__main__\":\n",
    "    alpha = AlphaThread()\n",
    "    digit = DigitThread()\n",
    "    print(\"Main Thread Start\")\n",
    "    alpha.start()\n",
    "    digit.start()\n",
    "    print(\"Main Thread End\")"
   ]
  },
  {
   "cell_type": "code",
   "execution_count": 1,
   "metadata": {},
   "outputs": [
    {
     "ename": "ModuleNotFoundError",
     "evalue": "No module named 'mqtt'",
     "output_type": "error",
     "traceback": [
      "\u001b[1;31m---------------------------------------------------------------------------\u001b[0m",
      "\u001b[1;31mModuleNotFoundError\u001b[0m                       Traceback (most recent call last)",
      "Cell \u001b[1;32mIn[1], line 1\u001b[0m\n\u001b[1;32m----> 1\u001b[0m \u001b[38;5;28;01mfrom\u001b[39;00m \u001b[38;5;21;01mmqtt\u001b[39;00m \u001b[38;5;28;01mimport\u001b[39;00m MqttMessage\n\u001b[0;32m      2\u001b[0m \u001b[38;5;28;01mfrom\u001b[39;00m \u001b[38;5;21;01mworkers\u001b[39;00m\u001b[38;5;21;01m.\u001b[39;00m\u001b[38;5;21;01mbase\u001b[39;00m \u001b[38;5;28;01mimport\u001b[39;00m BaseWorker\n\u001b[0;32m      4\u001b[0m REQUIREMENTS \u001b[38;5;241m=\u001b[39m [\u001b[38;5;124m'\u001b[39m\u001b[38;5;124mpip_packages\u001b[39m\u001b[38;5;124m'\u001b[39m]\n",
      "\u001b[1;31mModuleNotFoundError\u001b[0m: No module named 'mqtt'"
     ]
    },
    {
     "ename": "",
     "evalue": "",
     "output_type": "error",
     "traceback": [
      "\u001b[1;31m현재 셀 또는 이전 셀에서 코드를 실행하는 동안 Kernel이 충돌했습니다. \n",
      "\u001b[1;31m셀의 코드를 검토하여 가능한 오류 원인을 식별하세요. \n",
      "\u001b[1;31m자세한 내용을 보려면 <a href='https://aka.ms/vscodeJupyterKernelCrash'>여기</a>를 클릭하세요. \n",
      "\u001b[1;31m자세한 내용은 Jupyter <a href='command:jupyter.viewOutput'>로그</a>를 참조하세요."
     ]
    }
   ],
   "source": [
    "from mqtt import MqttMessage\n",
    "from workers.base import BaseWorker\n",
    "\n",
    "REQUIREMENTS = ['pip_packages']\n",
    "\n",
    "class TimeWorker(BaseWorker):\n",
    "  def _setup(self):\n",
    "    self._some = 'variable'\n",
    "\n",
    "  def status_update(self):\n",
    "    from datetime import datetime\n",
    "    \n",
    "    return [MqttMessage(topic=self.format_topic('time'), payload=datetime.now())]"
   ]
  },
  {
   "cell_type": "code",
   "execution_count": null,
   "metadata": {},
   "outputs": [],
   "source": []
  },
  {
   "cell_type": "code",
   "execution_count": null,
   "metadata": {},
   "outputs": [],
   "source": []
  }
 ],
 "metadata": {
  "kernelspec": {
   "display_name": ".venv",
   "language": "python",
   "name": "python3"
  },
  "language_info": {
   "codemirror_mode": {
    "name": "ipython",
    "version": 3
   },
   "file_extension": ".py",
   "mimetype": "text/x-python",
   "name": "python",
   "nbconvert_exporter": "python",
   "pygments_lexer": "ipython3",
   "version": "3.8.10"
  }
 },
 "nbformat": 4,
 "nbformat_minor": 2
}

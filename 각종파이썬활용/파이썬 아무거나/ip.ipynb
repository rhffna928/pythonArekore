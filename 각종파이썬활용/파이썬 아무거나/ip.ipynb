{
 "cells": [
  {
   "cell_type": "code",
   "execution_count": 17,
   "metadata": {},
   "outputs": [
    {
     "name": "stdout",
     "output_type": "stream",
     "text": [
      "{'ip': '140.205.1.6', 'anycast': True, 'city': 'Shanghai', 'region': 'Shanghai', 'country': 'CN', 'loc': '31.2222,121.4581', 'org': 'AS45102 Alibaba (US) Technology Co., Ltd.', 'postal': '200000', 'timezone': 'Asia/Shanghai', 'readme': 'https://ipinfo.io/missingauth'}\n"
     ]
    }
   ],
   "source": [
    "import requests\n",
    "\n",
    "def get_ip_info(ip):\n",
    "    response = requests.get(f\"https://ipinfo.io/{ip}/json\")\n",
    "    return response.json()\n",
    "\n",
    "# 예시 IP 주소 (여기서 원하는 IP 주소로 변경)\n",
    "ip = input()\n",
    "ip_info = get_ip_info(ip)\n",
    "print(ip_info)\n"
   ]
  },
  {
   "cell_type": "code",
   "execution_count": 18,
   "metadata": {},
   "outputs": [],
   "source": [
    "import folium\n",
    "\n",
    "def create_map(lat, lon):\n",
    "    my_map = folium.Map(location=[lat, lon], zoom_start=12)\n",
    "    folium.Marker([lat, lon], tooltip='IP Location').add_to(my_map)\n",
    "    return my_map\n",
    "\n",
    "# IP 정보에서 위치 정보 추출\n",
    "location = ip_info[\"loc\"].split(\",\")\n",
    "latitude = float(location[0])\n",
    "longitude = float(location[1])\n",
    "\n",
    "# 지도 생성\n",
    "my_map = create_map(latitude, longitude)\n",
    "\n",
    "# 지도 저장\n",
    "my_map.save(f\"{ip_info['city']}.html\")"
   ]
  }
 ],
 "metadata": {
  "kernelspec": {
   "display_name": ".venv",
   "language": "python",
   "name": "python3"
  },
  "language_info": {
   "codemirror_mode": {
    "name": "ipython",
    "version": 3
   },
   "file_extension": ".py",
   "mimetype": "text/x-python",
   "name": "python",
   "nbconvert_exporter": "python",
   "pygments_lexer": "ipython3",
   "version": "3.8.10"
  }
 },
 "nbformat": 4,
 "nbformat_minor": 2
}

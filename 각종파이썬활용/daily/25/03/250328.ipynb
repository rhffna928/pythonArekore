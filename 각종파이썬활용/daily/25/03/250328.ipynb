{
 "cells": [
  {
   "cell_type": "code",
   "execution_count": 2,
   "metadata": {},
   "outputs": [
    {
     "data": {
      "text/plain": [
       "datetime.datetime(2025, 3, 28, 9, 31, 42, 753242)"
      ]
     },
     "execution_count": 2,
     "metadata": {},
     "output_type": "execute_result"
    }
   ],
   "source": [
    "from datetime import datetime\n",
    "import calendar\n",
    "dt = datetime.today()\n",
    "\n",
    "dt\n",
    "\n"
   ]
  },
  {
   "cell_type": "code",
   "execution_count": 38,
   "metadata": {},
   "outputs": [
    {
     "data": {
      "text/plain": [
       "(datetime.datetime(2024, 11, 1, 0, 0),\n",
       " datetime.datetime(2024, 11, 30, 23, 59, 59, 999999))"
      ]
     },
     "execution_count": 38,
     "metadata": {},
     "output_type": "execute_result"
    }
   ],
   "source": [
    "def get_month_range(target_date: str) -> tuple:\n",
    "    year, month = map(int, target_date.split(\"-\"))\n",
    "    last_day = calendar.monthrange(year, month)[1]\n",
    "    start_day = datetime(year, month,1,0,0,0,0)\n",
    "    end_date = datetime(year, month, last_day, 23,59,59,999999)\n",
    "    return start_day,end_date\n",
    "\n",
    "get_month_range(\"2024-11\")"
   ]
  },
  {
   "cell_type": "code",
   "execution_count": 36,
   "metadata": {},
   "outputs": [],
   "source": [
    "import os\n",
    "from pathlib import Path\n",
    "\n",
    "folder_path = Path(\"250328\")\n",
    "\n",
    "folder_path.mkdir(parents=True, exist_ok=True)\n",
    "\n",
    "YEAR = 2025\n",
    "def make_file(start: int, end: int):\n",
    "    for month in range(start,end+1):\n",
    "        buf = []\n",
    "        buf.append(calendar.monthrange(YEAR,month)[1])\n",
    "        for day in range(1,buf.pop()+1):\n",
    "            with open(f\"D:/python 관련/PythonDataWorkspace/각종파이썬활용/일일연습/250328/{YEAR}-{month}-{day}.txt\",\"w\") as f:\n",
    "                f.write(f\"{YEAR}-{month}-{day}\")\n",
    "                \n",
    "                \n",
    "make_file(1,3)"
   ]
  },
  {
   "cell_type": "code",
   "execution_count": 13,
   "metadata": {},
   "outputs": [
    {
     "name": "stdout",
     "output_type": "stream",
     "text": [
      "수\n",
      "토\n",
      "토\n",
      "화\n",
      "목\n",
      "일\n",
      "화\n",
      "금\n",
      "월\n",
      "수\n",
      "토\n",
      "월\n"
     ]
    }
   ],
   "source": [
    "for i in range(1,13):\n",
    "    day1 = calendar.weekday(YEAR, i, 2)\n",
    "    if day1 == 0:\n",
    "        print(\"일\")\n",
    "    elif day1 == 1:\n",
    "        print(\"월\")\n",
    "    elif day1 == 2:\n",
    "        print(\"화\")\n",
    "    elif day1 == 3:\n",
    "        print(\"수\")\n",
    "    elif day1 == 4:\n",
    "        print(\"목\")\n",
    "    elif day1 == 5:\n",
    "        print(\"금\")\n",
    "    elif day1 == 6:\n",
    "        print(\"토\")\n",
    "    \n",
    "        "
   ]
  },
  {
   "cell_type": "code",
   "execution_count": 21,
   "metadata": {},
   "outputs": [
    {
     "name": "stdout",
     "output_type": "stream",
     "text": [
      "ok\n"
     ]
    }
   ],
   "source": [
    "import os\n",
    "PATH = os.path.dirname(__vsc_ipynb_file__)\n",
    "if os.path.join(PATH,'250328'):\n",
    "    print(\"ok\")\n",
    "else:\n",
    "    os.mkdir(PATH,'250328')\n"
   ]
  },
  {
   "cell_type": "code",
   "execution_count": null,
   "metadata": {},
   "outputs": [],
   "source": [
    "from pathlib import Path\n",
    "\n",
    "folder_path = Path(\"250328\")\n",
    "\n",
    "folder_path.mkdir(parents=True, exist_ok=True)"
   ]
  },
  {
   "cell_type": "markdown",
   "metadata": {},
   "source": [
    "-----------------------------\n",
    "@dataclass"
   ]
  },
  {
   "cell_type": "code",
   "execution_count": 50,
   "metadata": {},
   "outputs": [
    {
     "name": "stdout",
     "output_type": "stream",
     "text": [
      "User(name=홍길동, age=20, married=True)\n",
      "True\n"
     ]
    }
   ],
   "source": [
    "class User:\n",
    "    def __init__(self, name: str, age: int, married=False):\n",
    "        self.name = name\n",
    "        self.age = age\n",
    "        self.married = married\n",
    "        \n",
    "    def __repr__(self):\n",
    "        return f\"User(name={self.name}, age={self.age}, married={self.married})\"\n",
    "    def __eq__(self, other):\n",
    "        return self.name == other.name and self.age == other.age and self.married == other.married\n",
    "        \n",
    "        \n",
    "        \n",
    "user1 = User(\"홍길동\", 20, married=True)\n",
    "user2 = User(\"홍길동\", 20, married=True)\n",
    "\n",
    "print(user1)\n",
    "print(user1 == User(\"홍길동\", 20, True))\n"
   ]
  },
  {
   "cell_type": "code",
   "execution_count": 51,
   "metadata": {},
   "outputs": [
    {
     "name": "stdout",
     "output_type": "stream",
     "text": [
      "User(name='홍길동', age=20, married=True)\n",
      "True\n"
     ]
    }
   ],
   "source": [
    "from dataclasses import dataclass\n",
    "\n",
    "@dataclass\n",
    "class User:\n",
    "    name: str\n",
    "    age: int\n",
    "    married: bool = False\n",
    "    \n",
    "    \n",
    "user1 = User(\"홍길동\", 20, married=True)\n",
    "user2 = User(\"홍길동\", 20, married=True)\n",
    "\n",
    "print(user1)\n",
    "print(user1 == User(\"홍길동\", 20, True))    \n",
    "\n",
    "\n",
    "\n"
   ]
  }
 ],
 "metadata": {
  "kernelspec": {
   "display_name": ".venv",
   "language": "python",
   "name": "python3"
  },
  "language_info": {
   "codemirror_mode": {
    "name": "ipython",
    "version": 3
   },
   "file_extension": ".py",
   "mimetype": "text/x-python",
   "name": "python",
   "nbconvert_exporter": "python",
   "pygments_lexer": "ipython3",
   "version": "3.8.10"
  }
 },
 "nbformat": 4,
 "nbformat_minor": 2
}

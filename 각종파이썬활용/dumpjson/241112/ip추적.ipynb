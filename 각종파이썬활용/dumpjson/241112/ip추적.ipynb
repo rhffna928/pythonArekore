{
 "cells": [
  {
   "cell_type": "code",
   "execution_count": null,
   "metadata": {},
   "outputs": [
    {
     "name": "stdout",
     "output_type": "stream",
     "text": [
      "Received message from topic 'edgeplatform/hub/': {\"header\": {\"cmd\": \"rep\", \"actn\": \"status\", \"dtlActn\": \"all\", \"strtpnt\": \"H\", \"dstn\": \"M\", \"userId\": \"\", \"edgeId\": \"TRAC000001\", \"edgeTy\": \"TRC\", \"timestamp\": \"2024-11-12 19:18:16.267614\", \"command\": \"50001\"}, \"data\": \"UUA8GkQei49TelmaG9CWvpcMTt1T0IFolIpAbX1oTZzyCWEsGUTsYqN3lI5+l3sw85wpCO6j2rVQZW/3eR8of9amN/ITFznqxZOs2ygNlsGmBIboen7+I0Kafdmk5pfm50bvEQus/K7x/am5KYGSrssppqZ8eODddUlszsOA5lgi8THYkLRqMVg02bSFbvW9\"}\n",
      "Received message from topic 'edgeplatform/ctrlpub': {\"header\": {\"cmd\": \"rep\", \"actn\": \"status\", \"dtlActn\": \"all\", \"strtpnt\": \"H\", \"dstn\": \"C\", \"userId\": \"\", \"edgeId\": \"TRAC000001\", \"edgeTy\": \"TRC\", \"timestamp\": \"2024-11-12 19:18:16.267614\", \"command\": \"50001\"}, \"data\": \"UUA8GkQei49TelmaG9CWvpcMTt1T0IFolIpAbX1oTZzyCWEsGUTsYqN3lI5+l3sw85wpCO6j2rVQZW/3eR8of9amN/ITFznqxZOs2ygNlsGmBIboen7+I0Kafdmk5pfm50bvEQus/K7x/am5KYGSrssppqZ8eODddUlszsOA5lgi8THYkLRqMVg02bSFbvW9\"}\n",
      "Received message from topic 'edgeplatform/node/TRAC000001': {\"header\": {\"cmd\": \"rep\", \"actn\": \"vehicle\", \"dtlActn\": \"common\", \"strtpnt\": \"N\", \"dstn\": \"H\", \"userId\": \"\", \"edgeId\": \"TRAC000001\", \"edgeTy\": \"TRC\", \"timestamp\": \"2024-11-12 19:18:16.803926\", \"command\": \"60320\"}, \"data\": \"rFiwDczp4DHN0Jf4beUTAS7Yd4Hzs2JuMAYq2hXUJilnEHagwbZswkWWO/646DggVO4Ovs4zE4NpwMMBjEZgRefBC+31v+qc1DouqNGUFvWpNaVqzn9S6epC699ziXNKPTnHsANQA6CDyVvCzQHiTJWxfkzYKf05vZXT6iQKyciAK/XFvI9T/jQpG6UdCQr00Rj+5cJm7b42b2rQNVJt8Np9U0nKOsYlATaaDBv9G20DFfjxZGKsREYy1kM/P3MpnGxCGtE7kkVtiXdxQbHT2YtMJnPqvribRvSYtH/+dlA0x8xfYnA4w7PKOkfAeBH3LVFTOS78GQN/zkyhCJeEJ/fSrb+hCjCccnjSCUzoPybg10S9nk7wyMi0GVBIwerps7UxBxAdCEXIVgbJDOza6Yxo3/Ocd32z01lKEQw+h3k=\"}\n",
      "Received message from topic 'edgeplatform/ctrlpub': {\"header\": {\"cmd\": \"rep\", \"actn\": \"vehicle\", \"dtlActn\": \"common\", \"strtpnt\": \"H\", \"dstn\": \"C\", \"userId\": \"\", \"edgeId\": \"TRAC000001\", \"edgeTy\": \"TRC\", \"timestamp\": \"2024-11-12 19:18:16.803926\", \"command\": \"60320\"}, \"data\": \"rFiwDczp4DHN0Jf4beUTAS7Yd4Hzs2JuMAYq2hXUJilnEHagwbZswkWWO/646DggVO4Ovs4zE4NpwMMBjEZgRefBC+31v+qc1DouqNGUFvWpNaVqzn9S6epC699ziXNKPTnHsANQA6CDyVvCzQHiTJWxfkzYKf05vZXT6iQKyciAK/XFvI9T/jQpG6UdCQr00Rj+5cJm7b42b2rQNVJt8Np9U0nKOsYlATaaDBv9G20DFfjxZGKsREYy1kM/P3MpnGxCGtE7kkVtiXdxQbHT2YtMJnPqvribRvSYtH/+dlA0x8xfYnA4w7PKOkfAeBH3LVFTOS78GQN/zkyhCJeEJ/fSrb+hCjCccnjSCUzoPybg10S9nk7wyMi0GVBIwerps7UxBxAdCEXIVgbJDOza6Yxo3/Ocd32z01lKEQw+h3k=\"}\n",
      "Received message from topic 'edgeplatform/node/TRAC000001': {\"header\": {\"cmd\": \"rep\", \"actn\": \"status\", \"dtlActn\": \"all\", \"strtpnt\": \"N\", \"dstn\": \"H\", \"userId\": \"\", \"edgeId\": \"TRAC000001\", \"edgeTy\": \"TRC\", \"timestamp\": \"2024-11-12 19:18:18.287724\", \"command\": \"50001\"}, \"data\": \"bCY5KLVlsrqQF+FhGO+wbzUd/jxq9lBYvMtHKfUZ9kqCM/5Y6OYil1FAhNSos5aStrtGr57cM5G0MGj9VsvhXCt7wSr57kDFmPc177K+Xb1Qw9Kif1tdZ4/AQnn+DiItWjXPSgh2re7LsWJFl+M/qCLUhLmItBkdq+65Sp9W3iCupkDLTpZRv1LABSgwGNBPuLdJ11Fv9gKhasq3glpKlhUpZYaYD6poihCY2TDTnl46f5kvf2RaY09N2EnFm1E6dncP5ftIXnKNUNnWXsfrD+RElunpuEYCY6GhwRTLoSznt3xvp5bBqWbh5VXHSSKP5GUJIFJOoAnjC55ThRN1cjF2qtaj0WCncX5rM+ONSVrGTGh/S4+0BpVJDo9My0NlX1xIh1tXqCMI4vsWTnCmOehCSNFG6necROwQlbUSgQnUcrLL9aTOI5Cfr/CXfPAr3OQJYrmLCeoZGgNZ9A1R+hFBuJC6cySEJ5tqoda/xtofHAKiUEOex+XnMND+qp73ML5RGnKnOIK5R2Ee/Mlkst7L+Ob9l3eudo5bdK83lzt2HSwNnYJfwQQBTbkeB3M4CwBEj6JLZfZgxOIHjTEIh5gIRCXJ2Muflu80AquqDp4=\"}\n",
      "Received message from topic 'edgeplatform/hub/': {\"header\": {\"cmd\": \"rep\", \"actn\": \"status\", \"dtlActn\": \"all\", \"strtpnt\": \"H\", \"dstn\": \"M\", \"userId\": \"\", \"edgeId\": \"TRAC000001\", \"edgeTy\": \"TRC\", \"timestamp\": \"2024-11-12 19:18:18.287724\", \"command\": \"50001\"}, \"data\": \"bCY5KLVlsrqQF+FhGO+wbzUd/jxq9lBYvMtHKfUZ9kqCM/5Y6OYil1FAhNSos5aStrtGr57cM5G0MGj9VsvhXCt7wSr57kDFmPc177K+Xb1Qw9Kif1tdZ4/AQnn+DiItWjXPSgh2re7LsWJFl+M/qCLUhLmItBkdq+65Sp9W3iCupkDLTpZRv1LABSgwGNBPuLdJ11Fv9gKhasq3glpKlhUpZYaYD6poihCY2TDTnl46f5kvf2RaY09N2EnFm1E6dncP5ftIXnKNUNnWXsfrD+RElunpuEYCY6GhwRTLoSznt3xvp5bBqWbh5VXHSSKP5GUJIFJOoAnjC55ThRN1cjF2qtaj0WCncX5rM+ONSVrGTGh/S4+0BpVJDo9My0NlX1xIh1tXqCMI4vsWTnCmOehCSNFG6necROwQlbUSgQnUcrLL9aTOI5Cfr/CXfPAr3OQJYrmLCeoZGgNZ9A1R+hFBuJC6cySEJ5tqoda/xtofHAKiUEOex+XnMND+qp73ML5RGnKnOIK5R2Ee/Mlkst7L+Ob9l3eudo5bdK83lzt2HSwNnYJfwQQBTbkeB3M4CwBEj6JLZfZgxOIHjTEIh5gIRCXJ2Muflu80AquqDp4=\"}\n",
      "Received message from topic 'edgeplatform/ctrlpub': {\"header\": {\"cmd\": \"rep\", \"actn\": \"status\", \"dtlActn\": \"all\", \"strtpnt\": \"H\", \"dstn\": \"C\", \"userId\": \"\", \"edgeId\": \"TRAC000001\", \"edgeTy\": \"TRC\", \"timestamp\": \"2024-11-12 19:18:18.287724\", \"command\": \"50001\"}, \"data\": \"bCY5KLVlsrqQF+FhGO+wbzUd/jxq9lBYvMtHKfUZ9kqCM/5Y6OYil1FAhNSos5aStrtGr57cM5G0MGj9VsvhXCt7wSr57kDFmPc177K+Xb1Qw9Kif1tdZ4/AQnn+DiItWjXPSgh2re7LsWJFl+M/qCLUhLmItBkdq+65Sp9W3iCupkDLTpZRv1LABSgwGNBPuLdJ11Fv9gKhasq3glpKlhUpZYaYD6poihCY2TDTnl46f5kvf2RaY09N2EnFm1E6dncP5ftIXnKNUNnWXsfrD+RElunpuEYCY6GhwRTLoSznt3xvp5bBqWbh5VXHSSKP5GUJIFJOoAnjC55ThRN1cjF2qtaj0WCncX5rM+ONSVrGTGh/S4+0BpVJDo9My0NlX1xIh1tXqCMI4vsWTnCmOehCSNFG6necROwQlbUSgQnUcrLL9aTOI5Cfr/CXfPAr3OQJYrmLCeoZGgNZ9A1R+hFBuJC6cySEJ5tqoda/xtofHAKiUEOex+XnMND+qp73ML5RGnKnOIK5R2Ee/Mlkst7L+Ob9l3eudo5bdK83lzt2HSwNnYJfwQQBTbkeB3M4CwBEj6JLZfZgxOIHjTEIh5gIRCXJ2Muflu80AquqDp4=\"}\n",
      "Received message from topic 'edgeplatform/node/TRAC000001': {\"header\": {\"cmd\": \"rep\", \"actn\": \"cls\", \"dtlActn\": \"ctrllogindata\", \"strtpnt\": \"N\", \"dstn\": \"H\", \"userId\": \"\", \"edgeId\": \"TRAC000001\", \"edgeTy\": \"CLS\", \"timestamp\": \"2024-11-12 19:18:22.313548\", \"command\": \"80005\"}, \"data\": \"+hApMQ+8f0j2tfUycMPaBeKbOOmSyz/9YevA4xdxyAgCq1z0zCfMvmLNHcWx4HbctPjDYAF3gm9DuMUtWAoPyU48coC1pI7FcfAlDX1bzJxRpyJA+jcC7Hlb2tgKM8Jj\"}\n",
      "Received message from topic 'edgeplatform/node/TRAC000001': {\"header\": {\"cmd\": \"rep\", \"actn\": \"vehicle\", \"dtlActn\": \"common\", \"strtpnt\": \"N\", \"dstn\": \"H\", \"userId\": \"\", \"edgeId\": \"TRAC000001\", \"edgeTy\": \"TRC\", \"timestamp\": \"2024-11-12 19:18:22.716829\", \"command\": \"60320\"}, \"data\": \"rFiwDczp4DHN0Jf4beUTAS7Yd4Hzs2JuMAYq2hXUJilnEHagwbZswkWWO/646DggVO4Ovs4zE4NpwMMBjEZgRefBC+31v+qc1DouqNGUFvWpNaVqzn9S6epC699ziXNKPTnHsANQA6CDyVvCzQHiTJWxfkzYKf05vZXT6iQKyciAK/XFvI9T/jQpG6UdCQr00Rj+5cJm7b42b2rQNVJt8Np9U0nKOsYlATaaDBv9G20DFfjxZGKsREYy1kM/P3MpnGxCGtE7kkVtiXdxQbHT2YtMJnPqvribRvSYtH/+dlA0x8xfYnA4w7PKOkfAeBH3HuUOEd/QshyVVl62LLNqKHrN5RdflCzV/fnzoBDNuB5cwKMY7PwA00MTIMK5t0w3lw6uvdIA9aljJy54BgnbE9TmVYZ7LV7UXxIp/V47kAk=\"}\n",
      "Received message from topic 'edgeplatform/ctrlpub': {\"header\": {\"cmd\": \"rep\", \"actn\": \"vehicle\", \"dtlActn\": \"common\", \"strtpnt\": \"H\", \"dstn\": \"C\", \"userId\": \"\", \"edgeId\": \"TRAC000001\", \"edgeTy\": \"TRC\", \"timestamp\": \"2024-11-12 19:18:22.716829\", \"command\": \"60320\"}, \"data\": \"rFiwDczp4DHN0Jf4beUTAS7Yd4Hzs2JuMAYq2hXUJilnEHagwbZswkWWO/646DggVO4Ovs4zE4NpwMMBjEZgRefBC+31v+qc1DouqNGUFvWpNaVqzn9S6epC699ziXNKPTnHsANQA6CDyVvCzQHiTJWxfkzYKf05vZXT6iQKyciAK/XFvI9T/jQpG6UdCQr00Rj+5cJm7b42b2rQNVJt8Np9U0nKOsYlATaaDBv9G20DFfjxZGKsREYy1kM/P3MpnGxCGtE7kkVtiXdxQbHT2YtMJnPqvribRvSYtH/+dlA0x8xfYnA4w7PKOkfAeBH3HuUOEd/QshyVVl62LLNqKHrN5RdflCzV/fnzoBDNuB5cwKMY7PwA00MTIMK5t0w3lw6uvdIA9aljJy54BgnbE9TmVYZ7LV7UXxIp/V47kAk=\"}\n",
      "Received message from topic 'edgeplatform/node/TRAC000001': {\"header\": {\"cmd\": \"rep\", \"actn\": \"vehicle\", \"dtlActn\": \"common\", \"strtpnt\": \"N\", \"dstn\": \"H\", \"userId\": \"\", \"edgeId\": \"TRAC000001\", \"edgeTy\": \"TRC\", \"timestamp\": \"2024-11-12 19:18:24.819461\", \"command\": \"60320\"}, \"data\": \"rFiwDczp4DHN0Jf4beUTAS7Yd4Hzs2JuMAYq2hXUJilnEHagwbZswkWWO/646DggVO4Ovs4zE4NpwMMBjEZgRefBC+31v+qc1DouqNGUFvWpNaVqzn9S6epC699ziXNKPTnHsANQA6CDyVvCzQHiTJWxfkzYKf05vZXT6iQKyciAK/XFvI9T/jQpG6UdCQr00Rj+5cJm7b42b2rQNVJt8Np9U0nKOsYlATaaDBv9G20DFfjxZGKsREYy1kM/P3MpnGxCGtE7kkVtiXdxQbHT2YtMJnPqvribRvSYtH/+dlA0x8xfYnA4w7PKOkfAeBH3LVFTOS78GQN/zkyhCJeEJ0oA30v+hhpZAFqEazCg+x+GeCVbTQNfjZET+0Caq6XKZOKMbqarT036VtD5QXUEf7xGA5Kje9Lkp8KoC7yqLUs=\"}\n",
      "Received message from topic 'edgeplatform/ctrlpub': {\"header\": {\"cmd\": \"rep\", \"actn\": \"vehicle\", \"dtlActn\": \"common\", \"strtpnt\": \"H\", \"dstn\": \"C\", \"userId\": \"\", \"edgeId\": \"TRAC000001\", \"edgeTy\": \"TRC\", \"timestamp\": \"2024-11-12 19:18:24.819461\", \"command\": \"60320\"}, \"data\": \"rFiwDczp4DHN0Jf4beUTAS7Yd4Hzs2JuMAYq2hXUJilnEHagwbZswkWWO/646DggVO4Ovs4zE4NpwMMBjEZgRefBC+31v+qc1DouqNGUFvWpNaVqzn9S6epC699ziXNKPTnHsANQA6CDyVvCzQHiTJWxfkzYKf05vZXT6iQKyciAK/XFvI9T/jQpG6UdCQr00Rj+5cJm7b42b2rQNVJt8Np9U0nKOsYlATaaDBv9G20DFfjxZGKsREYy1kM/P3MpnGxCGtE7kkVtiXdxQbHT2YtMJnPqvribRvSYtH/+dlA0x8xfYnA4w7PKOkfAeBH3LVFTOS78GQN/zkyhCJeEJ0oA30v+hhpZAFqEazCg+x+GeCVbTQNfjZET+0Caq6XKZOKMbqarT036VtD5QXUEf7xGA5Kje9Lkp8KoC7yqLUs=\"}\n",
      "Received message from topic 'edgeplatform/node/TRAC000001': {\"header\": {\"cmd\": \"rep\", \"actn\": \"cls\", \"dtlActn\": \"setctrllogin\", \"strtpnt\": \"N\", \"dstn\": \"H\", \"userId\": \"\", \"edgeId\": \"TRAC000001\", \"edgeTy\": \"CLS\", \"timestamp\": \"2024-11-12 19:18:25.836483\", \"command\": \"10002\"}, \"data\": \"N8vJ+VPxwK2Bw0URrujZew==\"}\n",
      "Received message from topic 'edgeplatform/node/TRAC000001': {\"header\": {\"cmd\": \"rep\", \"actn\": \"status\", \"dtlActn\": \"all\", \"strtpnt\": \"N\", \"dstn\": \"H\", \"userId\": \"\", \"edgeId\": \"TRAC000001\", \"edgeTy\": \"TRC\", \"timestamp\": \"2024-11-12 19:18:26.350180\", \"command\": \"50001\"}, \"data\": \"oCrgpcFk7XaTbeWvfszY7XwKZ0/PZSyGIvPqyLwhj0Ax53kWYkQJmjo5RNoXnOjyI2j+P2HUA1s20JDkSeN+KBl2lfyo8nYuzrcds/oLvmaKigh6Wjmx8a/OPpsjVmWo1oAKMjZTqSH/8XWJCyKatESFYl5/c7ShNPHXGm7491WlB5qsDDNoiRoWuw82ZjzN\"}\n",
      "Received message from topic 'edgeplatform/hub/': {\"header\": {\"cmd\": \"rep\", \"actn\": \"status\", \"dtlActn\": \"all\", \"strtpnt\": \"H\", \"dstn\": \"M\", \"userId\": \"\", \"edgeId\": \"TRAC000001\", \"edgeTy\": \"TRC\", \"timestamp\": \"2024-11-12 19:18:26.350180\", \"command\": \"50001\"}, \"data\": \"oCrgpcFk7XaTbeWvfszY7XwKZ0/PZSyGIvPqyLwhj0Ax53kWYkQJmjo5RNoXnOjyI2j+P2HUA1s20JDkSeN+KBl2lfyo8nYuzrcds/oLvmaKigh6Wjmx8a/OPpsjVmWo1oAKMjZTqSH/8XWJCyKatESFYl5/c7ShNPHXGm7491WlB5qsDDNoiRoWuw82ZjzN\"}\n",
      "Received message from topic 'edgeplatform/ctrlpub': {\"header\": {\"cmd\": \"rep\", \"actn\": \"status\", \"dtlActn\": \"all\", \"strtpnt\": \"H\", \"dstn\": \"C\", \"userId\": \"\", \"edgeId\": \"TRAC000001\", \"edgeTy\": \"TRC\", \"timestamp\": \"2024-11-12 19:18:26.350180\", \"command\": \"50001\"}, \"data\": \"oCrgpcFk7XaTbeWvfszY7XwKZ0/PZSyGIvPqyLwhj0Ax53kWYkQJmjo5RNoXnOjyI2j+P2HUA1s20JDkSeN+KBl2lfyo8nYuzrcds/oLvmaKigh6Wjmx8a/OPpsjVmWo1oAKMjZTqSH/8XWJCyKatESFYl5/c7ShNPHXGm7491WlB5qsDDNoiRoWuw82ZjzN\"}\n",
      "Received message from topic 'edgeplatform/node/TRAC000001': {\"header\": {\"cmd\": \"rep\", \"actn\": \"cls\", \"dtlActn\": \"setctrllogout\", \"strtpnt\": \"N\", \"dstn\": \"H\", \"userId\": \"\", \"edgeId\": \"TRAC000001\", \"edgeTy\": \"CLS\", \"timestamp\": \"2024-11-12 19:18:28.367351\", \"command\": \"10003\"}, \"data\": \"9NLRa0Ktb1Q5aplXaSx18A==\"}\n",
      "Received message from topic 'edgeplatform/node/TRAC000001': {\"header\": {\"cmd\": \"rep\", \"actn\": \"vehicle\", \"dtlActn\": \"common\", \"strtpnt\": \"N\", \"dstn\": \"H\", \"userId\": \"\", \"edgeId\": \"TRAC000001\", \"edgeTy\": \"TRC\", \"timestamp\": \"2024-11-12 19:18:30.727354\", \"command\": \"60320\"}, \"data\": \"rFiwDczp4DHN0Jf4beUTAS7Yd4Hzs2JuMAYq2hXUJilnEHagwbZswkWWO/646DggVO4Ovs4zE4NpwMMBjEZgRefBC+31v+qc1DouqNGUFvWpNaVqzn9S6epC699ziXNKPTnHsANQA6CDyVvCzQHiTJWxfkzYKf05vZXT6iQKyciAK/XFvI9T/jQpG6UdCQr00Rj+5cJm7b42b2rQNVJt8Np9U0nKOsYlATaaDBv9G20DFfjxZGKsREYy1kM/P3MpnGxCGtE7kkVtiXdxQbHT2YtMJnPqvribRvSYtH/+dlA0x8xfYnA4w7PKOkfAeBH3HuUOEd/QshyVVl62LLNqKHrN5RdflCzV/fnzoBDNuB5cwKMY7PwA00MTIMK5t0w3lw6uvdIA9aljJy54BgnbE9TmVYZ7LV7UXxIp/V47kAk=\"}\n",
      "Received message from topic 'edgeplatform/ctrlpub': {\"header\": {\"cmd\": \"rep\", \"actn\": \"vehicle\", \"dtlActn\": \"common\", \"strtpnt\": \"H\", \"dstn\": \"C\", \"userId\": \"\", \"edgeId\": \"TRAC000001\", \"edgeTy\": \"TRC\", \"timestamp\": \"2024-11-12 19:18:30.727354\", \"command\": \"60320\"}, \"data\": \"rFiwDczp4DHN0Jf4beUTAS7Yd4Hzs2JuMAYq2hXUJilnEHagwbZswkWWO/646DggVO4Ovs4zE4NpwMMBjEZgRefBC+31v+qc1DouqNGUFvWpNaVqzn9S6epC699ziXNKPTnHsANQA6CDyVvCzQHiTJWxfkzYKf05vZXT6iQKyciAK/XFvI9T/jQpG6UdCQr00Rj+5cJm7b42b2rQNVJt8Np9U0nKOsYlATaaDBv9G20DFfjxZGKsREYy1kM/P3MpnGxCGtE7kkVtiXdxQbHT2YtMJnPqvribRvSYtH/+dlA0x8xfYnA4w7PKOkfAeBH3HuUOEd/QshyVVl62LLNqKHrN5RdflCzV/fnzoBDNuB5cwKMY7PwA00MTIMK5t0w3lw6uvdIA9aljJy54BgnbE9TmVYZ7LV7UXxIp/V47kAk=\"}\n"
     ]
    }
   ],
   "source": [
    "import paho.mqtt.client as mqtt\n",
    "\n",
    "# MQTT 브로커 설정\n",
    "MQTT_BROKER = \"223.130.131.234\"  # 네이버 서버의 IP 주소\n",
    "MQTT_PORT = 31883\n",
    "TOPIC = \"#\"\n",
    "\n",
    "# MQTT 메시지 콜백\n",
    "def on_message(client, userdata, msg):\n",
    "    print(f\"Received message from topic '{msg.topic}': {msg.payload.decode()}\")\n",
    "\n",
    "# MQTT 클라이언트 설정\n",
    "client = mqtt.Client()\n",
    "client.on_message = on_message\n",
    "client.connect(MQTT_BROKER, MQTT_PORT)\n",
    "client.subscribe(TOPIC)\n",
    "client.loop_forever()\n"
   ]
  }
 ],
 "metadata": {
  "kernelspec": {
   "display_name": ".venv",
   "language": "python",
   "name": "python3"
  },
  "language_info": {
   "codemirror_mode": {
    "name": "ipython",
    "version": 3
   },
   "file_extension": ".py",
   "mimetype": "text/x-python",
   "name": "python",
   "nbconvert_exporter": "python",
   "pygments_lexer": "ipython3",
   "version": "3.8.10"
  }
 },
 "nbformat": 4,
 "nbformat_minor": 2
}
